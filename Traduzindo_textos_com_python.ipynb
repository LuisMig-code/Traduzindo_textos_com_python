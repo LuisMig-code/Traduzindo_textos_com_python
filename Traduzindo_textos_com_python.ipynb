{
  "nbformat": 4,
  "nbformat_minor": 0,
  "metadata": {
    "colab": {
      "name": "Traduzindo_textos_com_python.ipynb",
      "provenance": [],
      "authorship_tag": "ABX9TyMnjGOG2ZaIO8zAKgNjdYRU",
      "include_colab_link": true
    },
    "kernelspec": {
      "name": "python3",
      "display_name": "Python 3"
    },
    "language_info": {
      "name": "python"
    }
  },
  "cells": [
    {
      "cell_type": "markdown",
      "metadata": {
        "id": "view-in-github",
        "colab_type": "text"
      },
      "source": [
        "<a href=\"https://colab.research.google.com/github/LuisMig-code/Traduzindo_textos_com_python/blob/main/Traduzindo_textos_com_python.ipynb\" target=\"_parent\"><img src=\"https://colab.research.google.com/assets/colab-badge.svg\" alt=\"Open In Colab\"/></a>"
      ]
    },
    {
      "cell_type": "markdown",
      "metadata": {
        "id": "fpK5mjja2Ali"
      },
      "source": [
        "# Como utilizar Python para traduzir textos "
      ]
    },
    {
      "cell_type": "markdown",
      "metadata": {
        "id": "rGI5Hna02wUG"
      },
      "source": [
        "Instalando a Biblioteca necessária"
      ]
    },
    {
      "cell_type": "code",
      "metadata": {
        "colab": {
          "base_uri": "https://localhost:8080/"
        },
        "id": "M7KlY-V-1aQy",
        "outputId": "24aafb09-c070-4d81-c44a-92825d720a67"
      },
      "source": [
        "!pip install deep_translator"
      ],
      "execution_count": 1,
      "outputs": [
        {
          "output_type": "stream",
          "text": [
            "Collecting deep_translator\n",
            "  Downloading https://files.pythonhosted.org/packages/c4/71/b2939e3d1ccd91c5eba61718d183c607486089d509141e9cbe594cca873b/deep_translator-1.4.4-py2.py3-none-any.whl\n",
            "Requirement already satisfied: requests in /usr/local/lib/python3.7/dist-packages (from deep_translator) (2.23.0)\n",
            "Requirement already satisfied: beautifulsoup4 in /usr/local/lib/python3.7/dist-packages (from deep_translator) (4.6.3)\n",
            "Requirement already satisfied: urllib3!=1.25.0,!=1.25.1,<1.26,>=1.21.1 in /usr/local/lib/python3.7/dist-packages (from requests->deep_translator) (1.24.3)\n",
            "Requirement already satisfied: chardet<4,>=3.0.2 in /usr/local/lib/python3.7/dist-packages (from requests->deep_translator) (3.0.4)\n",
            "Requirement already satisfied: certifi>=2017.4.17 in /usr/local/lib/python3.7/dist-packages (from requests->deep_translator) (2020.12.5)\n",
            "Requirement already satisfied: idna<3,>=2.5 in /usr/local/lib/python3.7/dist-packages (from requests->deep_translator) (2.10)\n",
            "Installing collected packages: deep-translator\n",
            "Successfully installed deep-translator-1.4.4\n"
          ],
          "name": "stdout"
        }
      ]
    },
    {
      "cell_type": "markdown",
      "metadata": {
        "id": "tD1eCTR64u3O"
      },
      "source": [
        "importanto o tradutor"
      ]
    },
    {
      "cell_type": "code",
      "metadata": {
        "id": "8kU2FhxF4y5D"
      },
      "source": [
        "from deep_translator import GoogleTranslator"
      ],
      "execution_count": 4,
      "outputs": []
    },
    {
      "cell_type": "markdown",
      "metadata": {
        "id": "qk-e4hWU5kuY"
      },
      "source": [
        "Como funciona?"
      ]
    },
    {
      "cell_type": "markdown",
      "metadata": {
        "id": "JqUu9XoV6Ntx"
      },
      "source": [
        "GoogleTranslator(**source** = '*Linguagem de origem*' , **target** = '*Linguagem da Tradução*').**translate**('*texto a ser traduzido*')"
      ]
    },
    {
      "cell_type": "markdown",
      "metadata": {
        "id": "tc5MCZcB6_sn"
      },
      "source": [
        "* **Linguagem de origem** : Linguagem do texto original , caso use o valor \"auto\" ele detecta automaticamente a lingua original ;\n",
        "\n",
        "* **Linguagem da Tradução** : Linguagem que queremos ter o texto ;\n",
        "\n",
        "* **texto a ser traduzido** : O texto que queremos fazer a tradução;"
      ]
    },
    {
      "cell_type": "markdown",
      "metadata": {
        "id": "j3msZThY403F"
      },
      "source": [
        "Traduzindo...."
      ]
    },
    {
      "cell_type": "code",
      "metadata": {
        "id": "Pw4bl0jX4XeQ"
      },
      "source": [
        "texto_original = \"Olá , Mundo!\""
      ],
      "execution_count": 5,
      "outputs": []
    },
    {
      "cell_type": "code",
      "metadata": {
        "id": "9CKU8w5N4obp"
      },
      "source": [
        "texto_traduzido = GoogleTranslator(source='auto', target='en').translate(texto_original)"
      ],
      "execution_count": 6,
      "outputs": []
    },
    {
      "cell_type": "code",
      "metadata": {
        "colab": {
          "base_uri": "https://localhost:8080/"
        },
        "id": "VnnpdISt4tJ8",
        "outputId": "433f165f-d9ef-4969-8e1f-49db2c34d1e1"
      },
      "source": [
        "print(texto_traduzido)"
      ],
      "execution_count": 7,
      "outputs": [
        {
          "output_type": "stream",
          "text": [
            "Hello World!\n"
          ],
          "name": "stdout"
        }
      ]
    },
    {
      "cell_type": "markdown",
      "metadata": {
        "id": "KdLlmFS09Rq0"
      },
      "source": [
        "**Existem ainda outros \"Tradutores\" , você pode checar todos clicando [aqui](https://deep-translator.readthedocs.io/en/latest/readme.html#imports) na documentação oficial da biblioteca**"
      ]
    }
  ]
}